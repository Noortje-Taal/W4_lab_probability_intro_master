{
 "cells": [
  {
   "cell_type": "markdown",
   "metadata": {},
   "source": [
    "# Introduction To Probability\n",
    "## Challenge 1\n",
    "\n",
    "A and B are events of a probability space with $(\\omega, \\sigma, P)$ such that $P(A) = 0.3$, $P(B) = 0.6$ and $P(A \\cap B) = 0.1$\n",
    "\n",
    "Which of the following statements are false?\n",
    "* $P(A \\cup B) = 0.6$\n",
    "* $P(A \\cap B^{C}) = 0.2$\n",
    "* $P(A \\cap (B \\cup B^{C})) = 0.4$\n",
    "* $P(A^{C} \\cap B^{C}) = 0.3$\n",
    "* $P((A \\cap B)^{C}) = 0.9$"
   ]
  },
  {
   "cell_type": "code",
   "execution_count": 39,
   "metadata": {},
   "outputs": [
    {
     "name": "stdout",
     "output_type": "stream",
     "text": [
      "1e statement is false\n",
      "2e statement is true\n",
      "3e statement is false\n",
      "4e statement is false\n",
      "5e statement is true\n"
     ]
    }
   ],
   "source": [
    "# U (union) = A en B samen \n",
    "# omgekeerde U (intercept) is overlap tussen A en B \n",
    "# Bc = niet B \n",
    "# Ac = niet A \n",
    "\n",
    "print('1e statement is false') # it should be 0.3 + 0.6 = 0.9\n",
    "print('2e statement is true') # Bc = 0.3 and from this number 0.2 is in A and 0.1 is outside A and B) \n",
    "print('3e statement is false') # 0.3 want interceot  A met alles = A \n",
    "print('4e statement is false') # dit kn niet want je bent nergens \n",
    "print('5e statement is true') # 1 - 0.1 = 0.9 "
   ]
  },
  {
   "cell_type": "markdown",
   "metadata": {},
   "source": [
    "## Challenge 2\n",
    "There is a box with 10 white balls, 12 red balls and 8 black balls. Calculate the probability of:\n",
    "* Taking a white ball out.\n",
    "* Taking a white ball out after taking a black ball out.\n",
    "* Taking a red ball out after taking a black and a red ball out.\n",
    "* Taking a red ball out after taking a black and a red ball out with reposition.\n",
    "\n",
    "**Hint**: Reposition means putting back the ball into the box after taking it out."
   ]
  },
  {
   "cell_type": "code",
   "execution_count": 37,
   "metadata": {},
   "outputs": [
    {
     "name": "stdout",
     "output_type": "stream",
     "text": [
      "1e question: 0.3333333333333333\n",
      "2e question: 0.09195402298850575\n",
      "3e question: 0.08669950738916256\n",
      "4e question: 0.08533333333333334\n"
     ]
    }
   ],
   "source": [
    "total = 10 + 12 + 8\n",
    "white = 10 \n",
    "red = 12 \n",
    "black = 8 \n",
    "\n",
    "# Taking white ball out \n",
    "p_white = white/total \n",
    "print('1e question:', p_white)\n",
    "\n",
    "# Taking a white ball out after taking a black ball out\n",
    "p_black_1 = black/total \n",
    "p_white_2 = white/(total-1) \n",
    "p_white_after_black = p_black_1 * p_white_2 \n",
    "print('2e question:', p_white_after_black) \n",
    "\n",
    "# Taking a red ball out after taking a black and a red ball out \n",
    "p_black_1 = black/total \n",
    "p_red_2 = red/(total-1)\n",
    "p_red_1 = red/total \n",
    "p_black_2 = black/(total-1)\n",
    "\n",
    "p_black_or_red = (p_black_1 * p_red_2) + (p_black_2 * p_red_1) # 2 manieren mogelijk \n",
    "p_red_3 = (red-1)/(total-2) \n",
    "\n",
    "p_red_after_r_or_bl = p_black_or_red*p_red_3 \n",
    "print('3e question:', p_red_after_r_or_bl) \n",
    "\n",
    "# Taking a red ball out after taking a black and a red ball out with reposition \n",
    "p_red = red/total \n",
    "p_black = black/total \n",
    "p_black_or_red = (p_red * p_black) + (p_black * p_red) # 2 volgorde van dezelfde \n",
    "p_red_after_rbl = p_red * p_black_or_red \n",
    "print('4e question:', p_red_after_rbl)\n"
   ]
  },
  {
   "cell_type": "markdown",
   "metadata": {},
   "source": [
    "## Challenge 3\n",
    "\n",
    "You are planning to go on a picnic today but the morning is cloudy. You hate rain so you don't know whether to go out or stay home! To help you make a decision, you gather the following data about rainy days:\n",
    "\n",
    "* 50% of all rainy days start off cloudy!\n",
    "* Cloudy mornings are common. About 40% of days start cloudy. \n",
    "* This month is usually dry so only 3 of 30 days (10%) tend to be rainy. \n",
    "\n",
    "What is the chance of rain during the day?"
   ]
  },
  {
   "cell_type": "code",
   "execution_count": 28,
   "metadata": {},
   "outputs": [
    {
     "name": "stdout",
     "output_type": "stream",
     "text": [
      "the chance of rain during the day is 0.05 >> this is 5.0 %\n"
     ]
    }
   ],
   "source": [
    "rain_after_cloudy = 0.50 # it is cloudy, so 40% chance for a rain day \n",
    "cloudy_day = 0.40 # it is already cloudy, so the chance of cloudy we can ignore \n",
    "rain_this_month = 0.10 # if it should be a rainy day, only 10% cahnce it will be raining\n",
    "\n",
    "# so the chance for rain when it is cloudy * the chance it will be raining when it should be \n",
    "rain_today = rain_after_cloudy * rain_this_month\n",
    "print('the chance of rain during the day is', rain_today, '>> this is', (rain_today*100), '%') \n"
   ]
  },
  {
   "cell_type": "markdown",
   "metadata": {},
   "source": [
    "## Challenge 4\n",
    "\n",
    "One thousand people were asked through a telephone survey whether they thought more street lighting is needed at night or not.\n",
    "\n",
    "Out of the 480 men that answered the survey, 324 said yes and 156 said no. On the other hand, out of the 520 women that answered, 351 said yes and 169 said no. \n",
    "\n",
    "We wonder if men and women have a different opinions about the street lighting matter. Is gender relevant or irrelevant to the question?\n",
    "\n",
    "Consider the following events:\n",
    "- The answer is yes, so the person that answered thinks that more street lighting is needed.\n",
    "- The person who answered is a man.\n",
    "\n",
    "We want to know if these events are independent, that is, if the fact of wanting more light depends on whether one is male or female. Are these events independent or not?\n",
    "\n",
    "**Hint**: To clearly compare the answers by gender, it is best to place the data in a table."
   ]
  },
  {
   "cell_type": "code",
   "execution_count": null,
   "metadata": {},
   "outputs": [],
   "source": [
    "# your code here"
   ]
  },
  {
   "cell_type": "code",
   "execution_count": 36,
   "metadata": {},
   "outputs": [
    {
     "name": "stdout",
     "output_type": "stream",
     "text": [
      "It is False that these events are independent\n",
      "\n",
      "P(men|yes): 0.324\n",
      "P(men): 0.48\n"
     ]
    }
   ],
   "source": [
    "men_total = 480 \n",
    "men_yes = 324 \n",
    "men_no = 156 \n",
    "\n",
    "women_total = 520 \n",
    "women_yes = 351 \n",
    "women_no = 169 \n",
    "\n",
    "# event 1 = p(yes) | event 2 = p(man) \n",
    "p_yes = (men_yes + women_yes) / (men_total + women_total) \n",
    "p_men = men_total / (men_total + women_total) \n",
    "p_yes_men = p_men*p_yes \n",
    "\n",
    "# are p(yes) and p(men) independent? \n",
    "# one of these should be true when something is independent: P(A)*P(B) = P(A ∩ B) | P(A|B) = P(A) | P(B|A) = P(B) \n",
    "# so p_men_yes = p(men) \n",
    "print('It is', p_men_yes == p_men, 'that these events are independent\\n') \n",
    "print('P(men|yes):', p_men_yes) \n",
    "print('P(men):', p_men) \n"
   ]
  },
  {
   "cell_type": "code",
   "execution_count": null,
   "metadata": {},
   "outputs": [],
   "source": []
  }
 ],
 "metadata": {
  "kernelspec": {
   "display_name": "Python 3",
   "language": "python",
   "name": "python3"
  },
  "language_info": {
   "codemirror_mode": {
    "name": "ipython",
    "version": 3
   },
   "file_extension": ".py",
   "mimetype": "text/x-python",
   "name": "python",
   "nbconvert_exporter": "python",
   "pygments_lexer": "ipython3",
   "version": "3.7.3"
  }
 },
 "nbformat": 4,
 "nbformat_minor": 2
}
